{
 "cells": [
  {
   "cell_type": "code",
   "execution_count": 1,
   "metadata": {},
   "outputs": [
    {
     "name": "stdout",
     "output_type": "stream",
     "text": [
      "Collecting mediapipe\n",
      "  Downloading mediapipe-0.10.14-cp39-cp39-win_amd64.whl (50.8 MB)\n",
      "     -------------------------------------- 50.8/50.8 MB 767.7 kB/s eta 0:00:00\n",
      "Collecting protobuf<5,>=4.25.3\n",
      "  Downloading protobuf-4.25.3-cp39-cp39-win_amd64.whl (413 kB)\n",
      "     ------------------------------------ 413.4/413.4 kB 737.0 kB/s eta 0:00:00\n",
      "Collecting sounddevice>=0.4.4\n",
      "  Downloading sounddevice-0.4.7-py3-none-win_amd64.whl (200 kB)\n",
      "     -------------------------------------- 200.1/200.1 kB 1.2 MB/s eta 0:00:00\n",
      "Collecting jax\n",
      "  Downloading jax-0.4.28-py3-none-any.whl (1.9 MB)\n",
      "     ---------------------------------------- 1.9/1.9 MB 643.5 kB/s eta 0:00:00\n",
      "Requirement already satisfied: numpy in c:\\users\\david\\anaconda3\\lib\\site-packages (from mediapipe) (1.21.5)\n",
      "Collecting absl-py\n",
      "  Downloading absl_py-2.1.0-py3-none-any.whl (133 kB)\n",
      "     -------------------------------------- 133.7/133.7 kB 2.0 MB/s eta 0:00:00\n",
      "Collecting jaxlib\n",
      "  Downloading jaxlib-0.4.28-cp39-cp39-win_amd64.whl (51.5 MB)\n",
      "     -------------------------------------- 51.5/51.5 MB 310.9 kB/s eta 0:00:00\n",
      "Collecting opencv-contrib-python\n",
      "  Downloading opencv_contrib_python-4.10.0.82-cp37-abi3-win_amd64.whl (45.5 MB)\n",
      "     -------------------------------------- 45.5/45.5 MB 411.9 kB/s eta 0:00:00\n",
      "Collecting flatbuffers>=2.0\n",
      "  Downloading flatbuffers-24.3.25-py2.py3-none-any.whl (26 kB)\n",
      "Requirement already satisfied: matplotlib in c:\\users\\david\\anaconda3\\lib\\site-packages (from mediapipe) (3.5.2)\n",
      "Requirement already satisfied: attrs>=19.1.0 in c:\\users\\david\\anaconda3\\lib\\site-packages (from mediapipe) (21.4.0)\n",
      "Requirement already satisfied: CFFI>=1.0 in c:\\users\\david\\anaconda3\\lib\\site-packages (from sounddevice>=0.4.4->mediapipe) (1.15.1)\n",
      "Collecting opt-einsum\n",
      "  Downloading opt_einsum-3.3.0-py3-none-any.whl (65 kB)\n",
      "     -------------------------------------- 65.5/65.5 kB 351.9 kB/s eta 0:00:00\n",
      "Collecting numpy\n",
      "  Downloading numpy-1.26.4-cp39-cp39-win_amd64.whl (15.8 MB)\n",
      "     ---------------------------------------- 15.8/15.8 MB 1.2 MB/s eta 0:00:00\n",
      "Collecting ml-dtypes>=0.2.0\n",
      "  Downloading ml_dtypes-0.4.0-cp39-cp39-win_amd64.whl (126 kB)\n",
      "     -------------------------------------- 126.7/126.7 kB 7.8 MB/s eta 0:00:00\n",
      "Requirement already satisfied: scipy>=1.9 in c:\\users\\david\\anaconda3\\lib\\site-packages (from jax->mediapipe) (1.9.1)\n",
      "Requirement already satisfied: importlib-metadata>=4.6 in c:\\users\\david\\anaconda3\\lib\\site-packages (from jax->mediapipe) (4.11.3)\n",
      "Requirement already satisfied: pillow>=6.2.0 in c:\\users\\david\\anaconda3\\lib\\site-packages (from matplotlib->mediapipe) (9.2.0)\n",
      "Requirement already satisfied: python-dateutil>=2.7 in c:\\users\\david\\anaconda3\\lib\\site-packages (from matplotlib->mediapipe) (2.8.2)\n",
      "Requirement already satisfied: pyparsing>=2.2.1 in c:\\users\\david\\anaconda3\\lib\\site-packages (from matplotlib->mediapipe) (3.0.9)\n",
      "Requirement already satisfied: fonttools>=4.22.0 in c:\\users\\david\\anaconda3\\lib\\site-packages (from matplotlib->mediapipe) (4.25.0)\n",
      "Requirement already satisfied: cycler>=0.10 in c:\\users\\david\\anaconda3\\lib\\site-packages (from matplotlib->mediapipe) (0.11.0)\n",
      "Requirement already satisfied: packaging>=20.0 in c:\\users\\david\\anaconda3\\lib\\site-packages (from matplotlib->mediapipe) (21.3)\n",
      "Requirement already satisfied: kiwisolver>=1.0.1 in c:\\users\\david\\anaconda3\\lib\\site-packages (from matplotlib->mediapipe) (1.4.2)\n",
      "Requirement already satisfied: pycparser in c:\\users\\david\\anaconda3\\lib\\site-packages (from CFFI>=1.0->sounddevice>=0.4.4->mediapipe) (2.21)\n",
      "Requirement already satisfied: zipp>=0.5 in c:\\users\\david\\anaconda3\\lib\\site-packages (from importlib-metadata>=4.6->jax->mediapipe) (3.8.0)\n",
      "Requirement already satisfied: six>=1.5 in c:\\users\\david\\anaconda3\\lib\\site-packages (from python-dateutil>=2.7->matplotlib->mediapipe) (1.16.0)\n",
      "Collecting numpy\n",
      "  Downloading numpy-1.24.4-cp39-cp39-win_amd64.whl (14.9 MB)\n",
      "     -------------------------------------- 14.9/14.9 MB 733.1 kB/s eta 0:00:00\n",
      "Installing collected packages: flatbuffers, protobuf, numpy, absl-py, sounddevice, opt-einsum, opencv-contrib-python, ml-dtypes, jaxlib, jax, mediapipe\n",
      "  Attempting uninstall: numpy\n",
      "    Found existing installation: numpy 1.21.5\n",
      "    Uninstalling numpy-1.21.5:\n",
      "      Successfully uninstalled numpy-1.21.5\n",
      "Successfully installed absl-py-2.1.0 flatbuffers-24.3.25 jax-0.4.28 jaxlib-0.4.28 mediapipe-0.10.14 ml-dtypes-0.4.0 numpy-1.24.4 opencv-contrib-python-4.10.0.82 opt-einsum-3.3.0 protobuf-4.25.3 sounddevice-0.4.7\n",
      "Note: you may need to restart the kernel to use updated packages.\n"
     ]
    },
    {
     "name": "stderr",
     "output_type": "stream",
     "text": [
      "ERROR: pip's dependency resolver does not currently take into account all the packages that are installed. This behaviour is the source of the following dependency conflicts.\n",
      "daal4py 2021.6.0 requires daal==2021.4.0, which is not installed.\n",
      "numba 0.55.1 requires numpy<1.22,>=1.18, but you have numpy 1.24.4 which is incompatible.\n"
     ]
    }
   ],
   "source": [
    "%pip install mediapipe"
   ]
  }
 ],
 "metadata": {
  "kernelspec": {
   "display_name": "base",
   "language": "python",
   "name": "python3"
  },
  "language_info": {
   "codemirror_mode": {
    "name": "ipython",
    "version": 3
   },
   "file_extension": ".py",
   "mimetype": "text/x-python",
   "name": "python",
   "nbconvert_exporter": "python",
   "pygments_lexer": "ipython3",
   "version": "3.9.13"
  }
 },
 "nbformat": 4,
 "nbformat_minor": 2
}
